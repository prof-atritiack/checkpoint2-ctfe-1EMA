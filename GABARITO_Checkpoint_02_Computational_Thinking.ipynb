{
 "cells": [
  {
   "cell_type": "markdown",
   "id": "a6d820de",
   "metadata": {},
   "source": [
    "# Checkpoint 02: Computational Thinking For Engineering - Resoluções"
   ]
  },
  {
   "cell_type": "markdown",
   "id": "f9801aff",
   "metadata": {},
   "source": [
    "\n",
    "## Instruções:\n",
    "- O trabalho foi organizado em duas abordagens de resolução para cada questão.\n",
    "- Cada abordagem possui sua própria implementação, comentada e organizada.\n",
    "- Não utilize bibliotecas externas.\n",
    "- Não utilize listas ou dicionários.\n",
    "- Utilize strings formatadas para a apresentação das saídas.\n",
    "    "
   ]
  },
  {
   "cell_type": "markdown",
   "id": "520382ee",
   "metadata": {},
   "source": [
    "## Questão 1: Controle Avançado de Carga em Elevadores Industriais - Resolução 1"
   ]
  },
  {
   "cell_type": "code",
   "execution_count": null,
   "id": "28bfda8a",
   "metadata": {},
   "outputs": [],
   "source": [
    "\n",
    "# Abordagem 1 - Utilizando um loop simples\n",
    "\n",
    "def calcular_carga(N):\n",
    "    soma = 0\n",
    "    for i in range(1, N + 1):\n",
    "        soma += (i ** 2) / (i + 1)\n",
    "    print(f\"A carga total suportada é: {soma:.2f}\")\n",
    "\n",
    "# Exemplo de execução\n",
    "calcular_carga(5)\n",
    "    "
   ]
  },
  {
   "cell_type": "markdown",
   "id": "df55aea7",
   "metadata": {},
   "source": [
    "## Questão 1: Controle Avançado de Carga em Elevadores Industriais - Resolução 2"
   ]
  },
  {
   "cell_type": "code",
   "execution_count": null,
   "id": "a44e5694",
   "metadata": {},
   "outputs": [],
   "source": [
    "\n",
    "# Abordagem 2 - Utilizando uma estrutura while\n",
    "\n",
    "def calcular_carga_while(N):\n",
    "    soma = 0\n",
    "    i = 1\n",
    "    while i <= N:\n",
    "        soma += (i ** 2) / (i + 1)\n",
    "        i += 1\n",
    "    print(f\"A carga total suportada é: {soma:.2f}\")\n",
    "\n",
    "# Exemplo de execução\n",
    "calcular_carga_while(5)\n",
    "    "
   ]
  },
  {
   "cell_type": "markdown",
   "id": "267a4db7",
   "metadata": {},
   "source": [
    "## Questão 2: Análise Estrutural dos Cabos de Aço - Resolução 1"
   ]
  },
  {
   "cell_type": "code",
   "execution_count": null,
   "id": "4794749d",
   "metadata": {},
   "outputs": [],
   "source": [
    "\n",
    "# Abordagem 1 - Verificação de primalidade com loop tradicional\n",
    "\n",
    "def is_prime(num):\n",
    "    if num < 2:\n",
    "        return False\n",
    "    for i in range(2, num):\n",
    "        if num % i == 0:\n",
    "            return False\n",
    "    return True\n",
    "\n",
    "def verificar_cabo(X, A):\n",
    "    soma_digitos = sum(int(digit) for digit in str(X))\n",
    "    resultado = soma_digitos * A\n",
    "    status = \"PRIMO\" if is_prime(resultado) else \"NÃO PRIMO\"\n",
    "    print(f\"O resultado para o cabo {X} no andar {A} é {status}.\")\n",
    "\n",
    "# Exemplo de execução\n",
    "verificar_cabo(123, 5)\n",
    "    "
   ]
  },
  {
   "cell_type": "markdown",
   "id": "51e243a3",
   "metadata": {},
   "source": [
    "## Questão 2: Análise Estrutural dos Cabos de Aço - Resolução 2"
   ]
  },
  {
   "cell_type": "code",
   "execution_count": null,
   "id": "63c2dc5c",
   "metadata": {},
   "outputs": [],
   "source": [
    "\n",
    "# Abordagem 2 - Verificação de primalidade utilizando contagem de divisores\n",
    "\n",
    "def is_prime_v2(num):\n",
    "    count = 0\n",
    "    for i in range(1, num + 1):\n",
    "        if num % i == 0:\n",
    "            count += 1\n",
    "    return count == 2\n",
    "\n",
    "def verificar_cabo_v2(X, A):\n",
    "    soma_digitos = sum(int(digit) for digit in str(X))\n",
    "    resultado = soma_digitos * A\n",
    "    status = \"PRIMO\" if is_prime_v2(resultado) else \"NÃO PRIMO\"\n",
    "    print(f\"O resultado para o cabo {X} no andar {A} é {status}.\")\n",
    "\n",
    "# Exemplo de execução\n",
    "verificar_cabo_v2(123, 5)\n",
    "    "
   ]
  },
  {
   "cell_type": "markdown",
   "id": "51e32bdf",
   "metadata": {},
   "source": [
    "## Questão 3: Identificação Avançada de Falhas nos Elevadores - Resolução 1"
   ]
  },
  {
   "cell_type": "code",
   "execution_count": null,
   "id": "35d9b620",
   "metadata": {},
   "outputs": [],
   "source": [
    "\n",
    "# Abordagem 1 - Uso de loop for para soma dos cubos\n",
    "\n",
    "def identificar_elevador(N):\n",
    "    soma_cubos = sum(int(digit) ** 3 for digit in str(N))\n",
    "    estado = \"Alerta\" if soma_cubos % 2 != 0 else \"Normal\"\n",
    "    print(f\"O elevador {N} está em estado: {estado}.\")\n",
    "\n",
    "# Exemplo de execução\n",
    "identificar_elevador(123)\n",
    "    "
   ]
  },
  {
   "cell_type": "markdown",
   "id": "82cdc59e",
   "metadata": {},
   "source": [
    "## Questão 3: Identificação Avançada de Falhas nos Elevadores - Resolução 2"
   ]
  },
  {
   "cell_type": "code",
   "execution_count": null,
   "id": "652574b8",
   "metadata": {},
   "outputs": [],
   "source": [
    "\n",
    "# Abordagem 2 - Uso de loop while para soma dos cubos\n",
    "\n",
    "def identificar_elevador_while(N):\n",
    "    soma_cubos = 0\n",
    "    num_str = str(N)\n",
    "    index = 0\n",
    "    while index < len(num_str):\n",
    "        soma_cubos += int(num_str[index]) ** 3\n",
    "        index += 1\n",
    "    estado = \"Alerta\" if soma_cubos % 2 != 0 else \"Normal\"\n",
    "    print(f\"O elevador {N} está em estado: {estado}.\")\n",
    "\n",
    "# Exemplo de execução\n",
    "identificar_elevador_while(123)\n",
    "    "
   ]
  }
 ],
 "metadata": {},
 "nbformat": 4,
 "nbformat_minor": 5
}
