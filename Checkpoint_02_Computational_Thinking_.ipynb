{
 "cells": [
  {
   "cell_type": "markdown",
   "id": "e5ed2f02",
   "metadata": {},
   "source": [
    "# Checkpoint 02: Computational Thinking For Engineering"
   ]
  },
  {
   "cell_type": "markdown",
   "id": "83aa6aee",
   "metadata": {},
   "source": [
    "\n",
    "## Instruções:\n",
    "- O trabalho pode ser realizado individualmente ou em grupos de até 3 integrantes.\n",
    "- Não utilize bibliotecas externas.\n",
    "- Não utilize listas ou dicionários.\n",
    "- Os códigos devem estar devidamente comentados e organizados.\n",
    "- Utilize strings formatadas para a apresentação das saídas, assegurando clareza e padronização.\n",
    "- Não utilize IA generativa para a resolução dos problemas.\n",
    "- Todas as questões devem ser implementadas neste notebook.\n",
    "    "
   ]
  },
  {
   "cell_type": "markdown",
   "id": "a26f3f40",
   "metadata": {},
   "source": [
    "## Questão 1: Controle Avançado de Carga em Elevadores Industriais"
   ]
  },
  {
   "cell_type": "markdown",
   "id": "4e773db2",
   "metadata": {},
   "source": [
    "\n",
    "**Contexto:**  \n",
    "Uma empresa especializada em elevadores industriais deseja implementar um sistema para calcular a carga total suportada por um conjunto de elevadores em um edifício de múltiplos setores. Cada elevador possui um sistema de verificação de carga que considera um padrão oscilante em cada andar. A carga suportada por cada elevador no andar `i` é calculada por:\n",
    "\n",
    "S = Σ ((i^2) / (i + 1)) para i de 1 até N\n",
    "\n",
    "**Entrada:**  \n",
    "- Um número inteiro `N` (N > 0), representando o número de setores (elevadores).\n",
    "\n",
    "**Saída:**  \n",
    "- A soma da carga total suportada com duas casas decimais, por exemplo:  \n",
    "  `A carga total suportada é: 5.47`\n",
    "    "
   ]
  },
  {
   "cell_type": "code",
   "execution_count": null,
   "id": "33bb4427",
   "metadata": {},
   "outputs": [],
   "source": [
    "# Implementação da Questão 1\n",
    "\n",
    "# Seu código aqui"
   ]
  },
  {
   "cell_type": "markdown",
   "id": "1b39cd74",
   "metadata": {},
   "source": [
    "## Questão 2: Análise Estrutural dos Cabos de Aço dos Elevadores"
   ]
  },
  {
   "cell_type": "markdown",
   "id": "a854cc19",
   "metadata": {},
   "source": [
    "\n",
    "**Contexto:**  \n",
    "Os cabos de aço dos elevadores comerciais estão sujeitos a tensões variáveis. A resistência nominal é a soma dos dígitos do código do cabo multiplicada pelo andar. Um cabo é considerado fora do padrão se o resultado não for um número primo.\n",
    "\n",
    "**Entrada:**  \n",
    "- Um número inteiro `X`, representando o código do cabo.\n",
    "- Um número inteiro `A`, representando o andar.\n",
    "\n",
    "**Saída:**  \n",
    "- Exemplo: `O resultado para o cabo 123 no andar 5 é PRIMO.`\n",
    "    "
   ]
  },
  {
   "cell_type": "code",
   "execution_count": null,
   "id": "6b9ed802",
   "metadata": {},
   "outputs": [],
   "source": [
    "# Implementação da Questão 2\n",
    "\n",
    "# Seu código aqui"
   ]
  },
  {
   "cell_type": "markdown",
   "id": "dc3eb43f",
   "metadata": {},
   "source": [
    "## Questão 3: Identificação Avançada de Falhas nos Elevadores"
   ]
  },
  {
   "cell_type": "markdown",
   "id": "28cd3d09",
   "metadata": {},
   "source": [
    "\n",
    "**Contexto:**  \n",
    "A soma dos cubos dos dígitos do código do elevador é utilizada para identificar falhas. Se o resultado for ímpar, o elevador está em \"Alerta\"; se par, \"Normal\".\n",
    "\n",
    "**Entrada:**  \n",
    "- Um número inteiro `N`, representando o código do elevador.\n",
    "\n",
    "**Saída:**  \n",
    "- Exemplo: `O elevador 123 está em estado: Alerta.`\n",
    "    "
   ]
  },
  {
   "cell_type": "code",
   "execution_count": null,
   "id": "79864b10",
   "metadata": {},
   "outputs": [],
   "source": [
    "# Implementação da Questão 3\n",
    "\n",
    "# Seu código aqui"
   ]
  }
 ],
 "metadata": {},
 "nbformat": 4,
 "nbformat_minor": 5
}
